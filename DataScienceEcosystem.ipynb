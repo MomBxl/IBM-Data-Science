{
 "cells": [
  {
   "cell_type": "markdown",
   "id": "ac6e0c87-5098-48e5-a403-e050e6808c1b",
   "metadata": {},
   "source": [
    "# Data Science Tools and Ecosystem"
   ]
  },
  {
   "cell_type": "markdown",
   "id": "1f5f81ab-8634-4106-a707-60668090bf9f",
   "metadata": {},
   "source": [
    "In this notebook, Data Science Tools and Ecosystem are summarized."
   ]
  },
  {
   "cell_type": "markdown",
   "id": "86bf9c13-ed50-478b-a666-fea4c36f4faa",
   "metadata": {},
   "source": [
    "__Objectives__:\n",
    "- List of popular languages in data science\n",
    "- List of commonly used data science library\n",
    "- List of data science tools"
   ]
  },
  {
   "cell_type": "markdown",
   "id": "a922861f-6595-477d-bca9-bb19f9788d05",
   "metadata": {},
   "source": [
    "Some of the popular languages that Data Scientists use are:\n",
    "1. Python\n",
    "2. R\n",
    "3. SQL\n",
    "4. Java\n",
    "5. Julia\n",
    "6. C++"
   ]
  },
  {
   "cell_type": "markdown",
   "id": "ebb5103b-dade-425d-be3c-223188050403",
   "metadata": {},
   "source": [
    "Some of the commonly used libraries used by Data Scientists include:\n",
    "1. Pandas\n",
    "2. Numpy\n",
    "3. Matplotlib\n",
    "4. Tensorflow\n",
    "5. Keras\n",
    "6. Scikit-learn\n",
    "7. ggplot\n",
    "8. Pytorch"
   ]
  },
  {
   "cell_type": "markdown",
   "id": "70d360d5-7302-4005-912d-7ea93e6feeed",
   "metadata": {},
   "source": [
    "|Data science tools|\n",
    "|---|\n",
    "|Jupyter|\n",
    "|RStudio|\n",
    "|Apache Spark|"
   ]
  },
  {
   "cell_type": "markdown",
   "id": "60cae3f2-834c-483c-ae39-f8e45e25e353",
   "metadata": {},
   "source": [
    "### Below are a few examples of evaluating arithmetic expressions in Python"
   ]
  },
  {
   "cell_type": "code",
   "execution_count": 2,
   "id": "5d622805-c3f9-404f-9476-62c49577e1ab",
   "metadata": {},
   "outputs": [
    {
     "data": {
      "text/plain": [
       "17"
      ]
     },
     "execution_count": 2,
     "metadata": {},
     "output_type": "execute_result"
    }
   ],
   "source": [
    "#This a simple arithmetic\n",
    "(3*4)+5"
   ]
  },
  {
   "cell_type": "code",
   "execution_count": 3,
   "id": "9ebc5bb4-0580-41f2-b815-6b2d822cced3",
   "metadata": {},
   "outputs": [
    {
     "data": {
      "text/plain": [
       "3.3333333333333335"
      ]
     },
     "execution_count": 3,
     "metadata": {},
     "output_type": "execute_result"
    }
   ],
   "source": [
    "#This will convert 200 minutes to hours by diving by 60\n",
    "200/60"
   ]
  },
  {
   "cell_type": "markdown",
   "id": "5aebcd71-6a51-43ba-bec0-efe39ddd7899",
   "metadata": {},
   "source": [
    "## Author\n",
    "Mohamed MEZINE"
   ]
  },
  {
   "cell_type": "code",
   "execution_count": null,
   "id": "a521ff16-b23f-4f8f-be9d-a913b49b59e9",
   "metadata": {},
   "outputs": [],
   "source": []
  }
 ],
 "metadata": {
  "kernelspec": {
   "display_name": "Python 3 (ipykernel)",
   "language": "python",
   "name": "python3"
  },
  "language_info": {
   "codemirror_mode": {
    "name": "ipython",
    "version": 3
   },
   "file_extension": ".py",
   "mimetype": "text/x-python",
   "name": "python",
   "nbconvert_exporter": "python",
   "pygments_lexer": "ipython3",
   "version": "3.13.1"
  }
 },
 "nbformat": 4,
 "nbformat_minor": 5
}
